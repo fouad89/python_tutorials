{
 "cells": [
  {
   "cell_type": "code",
   "execution_count": 1,
   "source": [
    "from math import pi"
   ],
   "outputs": [],
   "metadata": {}
  },
  {
   "cell_type": "code",
   "execution_count": 9,
   "source": [
    "class Circle:\n",
    "    \"\"\"A Circle instance models a circle with a radiu\n",
    "    \"\"\"\n",
    "    def __init__(self, radius= 1.0):\n",
    "        \"\"\"inializer with a defaul radius value\n",
    "\n",
    "        Args:\n",
    "            radius (float, optional): the radius of the circle. Defaults to 1.0.\n",
    "        \"\"\"\n",
    "        self.radius = radius\n",
    "\n",
    "    def __str__(self):\n",
    "        \"\"\"Return a formal string for the instance\n",
    "        \"\"\"\n",
    "        return f\"A circle with a radius: {self.radius}\"\n",
    "\n",
    "    def __repr__(self):\n",
    "        \"\"\"Return a formal string that can be used to re-create the instance\n",
    "        \"\"\"\n",
    "        return f\"A circle with a radius: {self.radius}\"\n",
    "\n",
    "    def get_area(self):\n",
    "        \"\"\"Get the area of a circle\n",
    "\n",
    "        Returns:\n",
    "            float: Area of the circle\n",
    "        \"\"\"\n",
    "        return pi * self.radius * self.radius"
   ],
   "outputs": [],
   "metadata": {}
  },
  {
   "cell_type": "code",
   "execution_count": 10,
   "source": [
    "# instance with default radius\n",
    "c1 = Circle()"
   ],
   "outputs": [],
   "metadata": {}
  },
  {
   "cell_type": "code",
   "execution_count": 12,
   "source": [
    "c1.get_area()"
   ],
   "outputs": [
    {
     "output_type": "execute_result",
     "data": {
      "text/plain": [
       "3.141592653589793"
      ]
     },
     "metadata": {},
     "execution_count": 12
    }
   ],
   "metadata": {}
  },
  {
   "cell_type": "code",
   "execution_count": 13,
   "source": [
    "c2 = Circle(3)\n",
    "c2"
   ],
   "outputs": [
    {
     "output_type": "execute_result",
     "data": {
      "text/plain": [
       "A circle with a radius: 3"
      ]
     },
     "metadata": {},
     "execution_count": 13
    }
   ],
   "metadata": {}
  },
  {
   "cell_type": "code",
   "execution_count": 14,
   "source": [
    "c2.get_area()"
   ],
   "outputs": [
    {
     "output_type": "execute_result",
     "data": {
      "text/plain": [
       "28.274333882308138"
      ]
     },
     "metadata": {},
     "execution_count": 14
    }
   ],
   "metadata": {}
  },
  {
   "cell_type": "code",
   "execution_count": null,
   "source": [],
   "outputs": [],
   "metadata": {}
  }
 ],
 "metadata": {
  "orig_nbformat": 4,
  "language_info": {
   "name": "python",
   "version": "3.7.6",
   "mimetype": "text/x-python",
   "codemirror_mode": {
    "name": "ipython",
    "version": 3
   },
   "pygments_lexer": "ipython3",
   "nbconvert_exporter": "python",
   "file_extension": ".py"
  },
  "kernelspec": {
   "name": "python3",
   "display_name": "Python 3.7.6 64-bit ('base': conda)"
  },
  "interpreter": {
   "hash": "016f416f43c7de9d71e7f049375c6b8b903fae571cb02d2ed6c16dadea121115"
  }
 },
 "nbformat": 4,
 "nbformat_minor": 2
}