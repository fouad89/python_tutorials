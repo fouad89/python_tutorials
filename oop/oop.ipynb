{
 "cells": [
  {
   "cell_type": "code",
   "execution_count": 1,
   "source": [
    "from math import pi"
   ],
   "outputs": [],
   "metadata": {}
  },
  {
   "cell_type": "code",
   "execution_count": 9,
   "source": [
    "class Circle:\n",
    "    \"\"\"A Circle instance models a circle with a radiu\n",
    "    \"\"\"\n",
    "    def __init__(self, radius= 1.0):\n",
    "        \"\"\"inializer with a defaul radius value\n",
    "\n",
    "        Args:\n",
    "            radius (float, optional): the radius of the circle. Defaults to 1.0.\n",
    "        \"\"\"\n",
    "        self.radius = radius\n",
    "\n",
    "    def __str__(self):\n",
    "        \"\"\"Return a formal string for the instance\n",
    "        \"\"\"\n",
    "        return f\"A circle with a radius: {self.radius}\"\n",
    "\n",
    "    def __repr__(self):\n",
    "        \"\"\"Return a formal string that can be used to re-create the instance\n",
    "        \"\"\"\n",
    "        return f\"A circle with a radius: {self.radius}\"\n",
    "\n",
    "    def get_area(self):\n",
    "        \"\"\"Get the area of a circle\n",
    "\n",
    "        Returns:\n",
    "            float: Area of the circle\n",
    "        \"\"\"\n",
    "        return pi * self.radius * self.radius"
   ],
   "outputs": [],
   "metadata": {}
  },
  {
   "cell_type": "code",
   "execution_count": 10,
   "source": [
    "# instance with default radius\n",
    "c1 = Circle()"
   ],
   "outputs": [],
   "metadata": {}
  },
  {
   "cell_type": "code",
   "execution_count": 12,
   "source": [
    "c1.get_area()"
   ],
   "outputs": [
    {
     "output_type": "execute_result",
     "data": {
      "text/plain": [
       "3.141592653589793"
      ]
     },
     "metadata": {},
     "execution_count": 12
    }
   ],
   "metadata": {}
  },
  {
   "cell_type": "code",
   "execution_count": 13,
   "source": [
    "c2 = Circle(3)\n",
    "c2"
   ],
   "outputs": [
    {
     "output_type": "execute_result",
     "data": {
      "text/plain": [
       "A circle with a radius: 3"
      ]
     },
     "metadata": {},
     "execution_count": 13
    }
   ],
   "metadata": {}
  },
  {
   "cell_type": "code",
   "execution_count": 14,
   "source": [
    "c2.get_area()"
   ],
   "outputs": [
    {
     "output_type": "execute_result",
     "data": {
      "text/plain": [
       "28.274333882308138"
      ]
     },
     "metadata": {},
     "execution_count": 14
    }
   ],
   "metadata": {}
  },
  {
   "cell_type": "code",
   "execution_count": 15,
   "source": [
    "# class method is declared using @classmethod decorator\n",
    "class MyClass:\n",
    "    @classmethod\n",
    "    def hello(self, name):\n",
    "        print(self)\n",
    "        print(f\"hello from {self.__name__}, {name}\")"
   ],
   "outputs": [],
   "metadata": {}
  },
  {
   "cell_type": "code",
   "execution_count": 16,
   "source": [
    "MyClass.hello(\"Jack\")"
   ],
   "outputs": [
    {
     "output_type": "stream",
     "name": "stdout",
     "text": [
      "<class '__main__.MyClass'>\n",
      "hello from MyClass, Jack\n"
     ]
    }
   ],
   "metadata": {}
  },
  {
   "cell_type": "code",
   "execution_count": 19,
   "source": [
    "# instance methods are invoked using the the instance and not the class object. \n",
    "# takes the instance(self as its first argument)\n",
    "\n",
    "class MyClass:\n",
    "    def hello(self):\n",
    "        print(f\"Hello from class: {self.__class__.__name__}\")"
   ],
   "outputs": [],
   "metadata": {}
  },
  {
   "cell_type": "code",
   "execution_count": 20,
   "source": [
    "mc = MyClass()\n",
    "mc.hello()"
   ],
   "outputs": [
    {
     "output_type": "stream",
     "name": "stdout",
     "text": [
      "Hello from class: MyClass\n"
     ]
    }
   ],
   "metadata": {}
  },
  {
   "cell_type": "code",
   "execution_count": 21,
   "source": [
    "# static method is declared using the @staticmethod decorator\n",
    "# it doesn't belong to a specific class. it doesn't depend on the state of the object\n",
    "class MyClass:\n",
    "    @staticmethod\n",
    "    def hello():\n",
    "        print(\"Hello World\")"
   ],
   "outputs": [],
   "metadata": {}
  },
  {
   "cell_type": "code",
   "execution_count": 22,
   "source": [
    "mc1 = MyClass()\n",
    "mc1.hello()"
   ],
   "outputs": [
    {
     "output_type": "stream",
     "name": "stdout",
     "text": [
      "Hello World\n"
     ]
    }
   ],
   "metadata": {}
  },
  {
   "cell_type": "markdown",
   "source": [
    "# Inheritence\n",
    "it is a relationship between a mother and a child class. The child class or (subclass) is a specialized version of the mother class"
   ],
   "metadata": {}
  },
  {
   "cell_type": "code",
   "execution_count": 31,
   "source": [
    "class Cylinder(Circle):\n",
    "    \"\"\"Cylinder class that inherits from class Circle\n",
    "\n",
    "    Args:\n",
    "        Circle ([class]): circle class (Mother)\n",
    "    \"\"\"\n",
    "\n",
    "    def __init__(self, radius=1.0, height=1.0):\n",
    "        # reinitalize Circle radius attribute using super() keyword\n",
    "        super().__init__(radius)\n",
    "        self.height = height\n",
    "\n",
    "    def __str__(self):\n",
    "        return f\"Cylinder with Height {self.height} and Radius {self.radius}\"\n",
    "\n",
    "    def get_volume(self):\n",
    "        return self.get_area() * self.height # using the inherited method from Circle class\n"
   ],
   "outputs": [],
   "metadata": {}
  },
  {
   "cell_type": "code",
   "execution_count": 32,
   "source": [
    "cyl1 = Cylinder(radius=2, height=3.0)"
   ],
   "outputs": [],
   "metadata": {}
  },
  {
   "cell_type": "code",
   "execution_count": 33,
   "source": [
    "print(cyl1)"
   ],
   "outputs": [
    {
     "output_type": "stream",
     "name": "stdout",
     "text": [
      "Cylinder with Height 3.0 and Radius 2\n"
     ]
    }
   ],
   "metadata": {}
  },
  {
   "cell_type": "code",
   "execution_count": 34,
   "source": [
    "cyl1.get_volume()"
   ],
   "outputs": [
    {
     "output_type": "execute_result",
     "data": {
      "text/plain": [
       "37.69911184307752"
      ]
     },
     "metadata": {},
     "execution_count": 34
    }
   ],
   "metadata": {}
  },
  {
   "cell_type": "code",
   "execution_count": null,
   "source": [],
   "outputs": [],
   "metadata": {}
  }
 ],
 "metadata": {
  "orig_nbformat": 4,
  "language_info": {
   "name": "python",
   "version": "3.7.6",
   "mimetype": "text/x-python",
   "codemirror_mode": {
    "name": "ipython",
    "version": 3
   },
   "pygments_lexer": "ipython3",
   "nbconvert_exporter": "python",
   "file_extension": ".py"
  },
  "kernelspec": {
   "name": "python3",
   "display_name": "Python 3.7.6 64-bit ('base': conda)"
  },
  "interpreter": {
   "hash": "016f416f43c7de9d71e7f049375c6b8b903fae571cb02d2ed6c16dadea121115"
  }
 },
 "nbformat": 4,
 "nbformat_minor": 2
}