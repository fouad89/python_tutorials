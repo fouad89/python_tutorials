{
 "cells": [
  {
   "cell_type": "markdown",
   "source": [
    "## Types of Inheritence\n",
    "<li>Single</li>\n",
    "<li>Multiple</li>\n",
    "<li>Multilevel</li>\n",
    "<li>Hierarchical</li>\n",
    "<li>Hybrid</li>"
   ],
   "metadata": {}
  },
  {
   "cell_type": "markdown",
   "source": [
    "## Single Inheritence"
   ],
   "metadata": {}
  },
  {
   "cell_type": "code",
   "execution_count": 1,
   "source": [
    "class Country:\n",
    "    def __init__(self, country):\n",
    "        self.country= country\n",
    "\n",
    "    def ShowCountry(self):\n",
    "        return f\"The Country is {self.country}\"\n",
    "\n",
    "\n",
    "# child class inherits from Country\n",
    "class State(Country):\n",
    "    def __init__(self, state):\n",
    "        self.state = state\n",
    "\n",
    "    def ShowState(self):\n",
    "        return f\"State is {self.state}\""
   ],
   "outputs": [],
   "metadata": {}
  },
  {
   "cell_type": "code",
   "execution_count": 2,
   "source": [
    "country1 = Country(\"Ireland\")\n",
    "state1 = State(\"Cork\")"
   ],
   "outputs": [],
   "metadata": {}
  },
  {
   "cell_type": "code",
   "execution_count": 3,
   "source": [
    "print(country1.ShowCountry())\n",
    "print(state1.ShowState())"
   ],
   "outputs": [
    {
     "output_type": "stream",
     "name": "stdout",
     "text": [
      "The Country is Ireland\n",
      "State is Cork\n"
     ]
    }
   ],
   "metadata": {}
  },
  {
   "cell_type": "markdown",
   "source": [
    "## Multiple Inheritence"
   ],
   "metadata": {}
  },
  {
   "cell_type": "code",
   "execution_count": 10,
   "source": [
    "class Student:\n",
    "    def method1(self, s_id, s_name):\n",
    "        self.s_id = s_id\n",
    "        self.s_name = s_name\n",
    "        \n",
    "    def method2(self):\n",
    "        return (f\"ID: {self.s_id}, Name: {self.s_name}\")\n",
    "\n",
    "class Marks:\n",
    "    def set_marks(self, m1, m2):\n",
    "        self.m1 = m1\n",
    "        self.m2 = m2\n",
    "\n",
    "    def print_marks(self):\n",
    "        return (f\"Mark 1: {self.m1}\")\n",
    "        return (f\"Mark 2: {self.m2}\")\n",
    "\n",
    "# class inheriting from Student & Marks\n",
    "class Results(Student, Marks):\n",
    "    def calc(self):\n",
    "        self.total = self.m1 + self.m2\n",
    "\n",
    "    def print_total(self):\n",
    "        return(f\"Total: {self.total}\")\n",
    "        "
   ],
   "outputs": [],
   "metadata": {}
  },
  {
   "cell_type": "code",
   "execution_count": 11,
   "source": [
    "r1 = Results()\n",
    "r1.method1(60, \"FS\")\n",
    "r1.set_marks(60, 70)\n"
   ],
   "outputs": [],
   "metadata": {}
  },
  {
   "cell_type": "code",
   "execution_count": 13,
   "source": [
    "\n",
    "print(r1.method2())\n",
    "print(r1.print_total())"
   ],
   "outputs": [
    {
     "output_type": "stream",
     "name": "stdout",
     "text": [
      "ID: 60, Name: FS\n",
      "Total: 130\n"
     ]
    }
   ],
   "metadata": {}
  },
  {
   "cell_type": "code",
   "execution_count": null,
   "source": [],
   "outputs": [],
   "metadata": {}
  }
 ],
 "metadata": {
  "orig_nbformat": 4,
  "language_info": {
   "name": "python",
   "version": "3.7.6",
   "mimetype": "text/x-python",
   "codemirror_mode": {
    "name": "ipython",
    "version": 3
   },
   "pygments_lexer": "ipython3",
   "nbconvert_exporter": "python",
   "file_extension": ".py"
  },
  "kernelspec": {
   "name": "python3",
   "display_name": "Python 3.7.6 64-bit ('base': conda)"
  },
  "interpreter": {
   "hash": "016f416f43c7de9d71e7f049375c6b8b903fae571cb02d2ed6c16dadea121115"
  }
 },
 "nbformat": 4,
 "nbformat_minor": 2
}