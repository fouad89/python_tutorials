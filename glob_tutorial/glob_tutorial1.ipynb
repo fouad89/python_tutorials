{
 "cells": [
  {
   "cell_type": "markdown",
   "source": [
    "# Using Pattern Matching to find files"
   ],
   "metadata": {}
  },
  {
   "cell_type": "code",
   "execution_count": 20,
   "source": [
    "\n",
    "\n",
    "\n",
    "# Autmation: creating example files \n",
    "import os\n",
    "target_folder = 'example_files'\n",
    "# creating 9 txt files and 9 png files\n",
    "for i in range(1,10):\n",
    "    # creating text files\n",
    "    with open(os.path.join(target_folder,f\"text{i}.txt\"), 'w'):\n",
    "        pass\n",
    "    # creating png files\n",
    "    with open(os.path.join(target_folder,f\"picture{i}.png\"),'w'):\n",
    "        pass\n",
    "    # creating specific text files starting with a digit\n",
    "    with open(os.path.join(target_folder,f\"{i}text.txt\"),'w'):\n",
    "        pass\n",
    "    # creating files with only 2 charachters\n",
    "    with open(os.path.join(target_folder,f\"{i}a.txt\"),'w'):\n",
    "        pass\n",
    "    # creating files with 3 charachters\n",
    "    with open(os.path.join(target_folder,f\"{i}bc.txt\"),'w'):\n",
    "        pass\n",
    "    # adding files in a subdirectory of example_files folder\n",
    "    with open(f'example_files/sub_dir/pic{i}.png', 'w'):\n",
    "        pass"
   ],
   "outputs": [],
   "metadata": {}
  },
  {
   "cell_type": "code",
   "execution_count": 4,
   "source": [
    "# using glob to match the patterns\n",
    "import glob"
   ],
   "outputs": [],
   "metadata": {}
  },
  {
   "cell_type": "code",
   "execution_count": 8,
   "source": [
    "# defining the pattern to find only images\n",
    "glob.glob(\"example_files/*.png\")"
   ],
   "outputs": [
    {
     "output_type": "execute_result",
     "data": {
      "text/plain": [
       "['example_files/picture8.png',\n",
       " 'example_files/picture9.png',\n",
       " 'example_files/picture1.png',\n",
       " 'example_files/picture2.png',\n",
       " 'example_files/picture3.png',\n",
       " 'example_files/picture7.png',\n",
       " 'example_files/picture6.png',\n",
       " 'example_files/picture4.png',\n",
       " 'example_files/picture5.png']"
      ]
     },
     "metadata": {},
     "execution_count": 8
    }
   ],
   "metadata": {}
  },
  {
   "cell_type": "code",
   "execution_count": 10,
   "source": [
    "# matching text files starting with a digit only\n",
    "glob.glob('example_files/[0-9]*.txt')"
   ],
   "outputs": [
    {
     "output_type": "execute_result",
     "data": {
      "text/plain": [
       "['example_files/2text.txt',\n",
       " 'example_files/3text.txt',\n",
       " 'example_files/8text.txt',\n",
       " 'example_files/1text.txt',\n",
       " 'example_files/9text.txt',\n",
       " 'example_files/5text.txt',\n",
       " 'example_files/4text.txt',\n",
       " 'example_files/6text.txt',\n",
       " 'example_files/7text.txt']"
      ]
     },
     "metadata": {},
     "execution_count": 10
    }
   ],
   "metadata": {}
  },
  {
   "cell_type": "code",
   "execution_count": 12,
   "source": [
    "# matching for files with only two charachters\n",
    "glob.glob('example_files/[0-9]?.txt')"
   ],
   "outputs": [
    {
     "output_type": "execute_result",
     "data": {
      "text/plain": [
       "['example_files/1a.txt',\n",
       " 'example_files/7a.txt',\n",
       " 'example_files/6a.txt',\n",
       " 'example_files/5a.txt',\n",
       " 'example_files/9a.txt',\n",
       " 'example_files/8a.txt',\n",
       " 'example_files/4a.txt',\n",
       " 'example_files/3a.txt',\n",
       " 'example_files/2a.txt']"
      ]
     },
     "metadata": {},
     "execution_count": 12
    }
   ],
   "metadata": {}
  },
  {
   "cell_type": "code",
   "execution_count": 13,
   "source": [
    "# matching for files with 3\n",
    "glob.glob('example_files/???.txt')"
   ],
   "outputs": [
    {
     "output_type": "execute_result",
     "data": {
      "text/plain": [
       "['example_files/8bc.txt',\n",
       " 'example_files/9bc.txt',\n",
       " 'example_files/1bc.txt',\n",
       " 'example_files/3bc.txt',\n",
       " 'example_files/7bc.txt',\n",
       " 'example_files/5bc.txt',\n",
       " 'example_files/2bc.txt',\n",
       " 'example_files/4bc.txt',\n",
       " 'example_files/6bc.txt']"
      ]
     },
     "metadata": {},
     "execution_count": 13
    }
   ],
   "metadata": {}
  },
  {
   "cell_type": "code",
   "execution_count": 22,
   "source": [
    "# finding matching finders recursively within subdirectories as well\n",
    "glob.glob('example_files/**/*.png', recursive=True)"
   ],
   "outputs": [
    {
     "output_type": "execute_result",
     "data": {
      "text/plain": [
       "['example_files/picture8.png',\n",
       " 'example_files/picture9.png',\n",
       " 'example_files/picture1.png',\n",
       " 'example_files/picture2.png',\n",
       " 'example_files/picture3.png',\n",
       " 'example_files/picture7.png',\n",
       " 'example_files/picture6.png',\n",
       " 'example_files/picture4.png',\n",
       " 'example_files/picture5.png',\n",
       " 'example_files/sub_dir/pic9.png',\n",
       " 'example_files/sub_dir/pic8.png',\n",
       " 'example_files/sub_dir/pic1.png',\n",
       " 'example_files/sub_dir/pic3.png',\n",
       " 'example_files/sub_dir/pic2.png',\n",
       " 'example_files/sub_dir/pic6.png',\n",
       " 'example_files/sub_dir/pic7.png',\n",
       " 'example_files/sub_dir/pic5.png',\n",
       " 'example_files/sub_dir/pic4.png']"
      ]
     },
     "metadata": {},
     "execution_count": 22
    }
   ],
   "metadata": {}
  },
  {
   "cell_type": "code",
   "execution_count": 27,
   "source": [
    "# using iglob to create an iterator to save memomory\n",
    "it = glob.iglob('example_files/**/*.png', recursive=True)"
   ],
   "outputs": [],
   "metadata": {}
  },
  {
   "cell_type": "code",
   "execution_count": 28,
   "source": [
    "next(it)"
   ],
   "outputs": [
    {
     "output_type": "execute_result",
     "data": {
      "text/plain": [
       "'example_files/picture8.png'"
      ]
     },
     "metadata": {},
     "execution_count": 28
    }
   ],
   "metadata": {}
  },
  {
   "cell_type": "code",
   "execution_count": null,
   "source": [],
   "outputs": [],
   "metadata": {}
  }
 ],
 "metadata": {
  "orig_nbformat": 4,
  "language_info": {
   "name": "python",
   "version": "3.7.6",
   "mimetype": "text/x-python",
   "codemirror_mode": {
    "name": "ipython",
    "version": 3
   },
   "pygments_lexer": "ipython3",
   "nbconvert_exporter": "python",
   "file_extension": ".py"
  },
  "kernelspec": {
   "name": "python3",
   "display_name": "Python 3.7.6 64-bit ('base': conda)"
  },
  "interpreter": {
   "hash": "016f416f43c7de9d71e7f049375c6b8b903fae571cb02d2ed6c16dadea121115"
  }
 },
 "nbformat": 4,
 "nbformat_minor": 2
}